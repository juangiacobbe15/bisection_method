{
  "nbformat": 4,
  "nbformat_minor": 0,
  "metadata": {
    "colab": {
      "provenance": [],
      "toc_visible": true,
      "authorship_tag": "ABX9TyOfii9yqIjENCNz0+pZ1qBd",
      "include_colab_link": true
    },
    "kernelspec": {
      "name": "python3",
      "display_name": "Python 3"
    },
    "language_info": {
      "name": "python"
    }
  },
  "cells": [
    {
      "cell_type": "markdown",
      "metadata": {
        "id": "view-in-github",
        "colab_type": "text"
      },
      "source": [
        "<a href=\"https://colab.research.google.com/github/juangiacobbe15/bisection_method/blob/main/bisection_method.ipynb\" target=\"_parent\"><img src=\"https://colab.research.google.com/assets/colab-badge.svg\" alt=\"Open In Colab\"/></a>"
      ]
    },
    {
      "cell_type": "markdown",
      "source": [
        "#Bisection Method\n",
        "\n",
        " The bisection method is a root-finding method that applies to any continuous function for which one knows two values with opposite signs. The method consists of repeatedly bisecting the interval defined by these values and then selecting the subinterval in which the function changes sign, and therefore must contain a root. It is a very simple and robust method, but it is also relatively slow. Because of this, it is often used to obtain a rough approximation to a solution which is then used as a starting point for more rapidly converging methods.\n",
        "\n",
        " The method is applicable for numerically solving the equation $f(x) = 0$ for the real variable $x$, where f is a continuous function defined on an interval $[a, b]$ and where $f(a)$ and $f(b)$ have opposite signs. In this case a and b are said to bracket a root since, by the intermediate value theorem, the continuous function f must have at least one root in the interval$ (a, b)$.\n",
        "\n",
        "At each step the method divides the interval in two parts/halves by computing the midpoint $p = \\frac{a +b }{2}$ of the interval and the value of the function $f(c)$ at that point. If c itself is a root then the process has succeeded and stops. Otherwise, there are now only two possibilities: either $f(a)$ and $f(c)$ have opposite signs and bracket a root, or $f(c)$ and $f(b)$ have opposite signs and bracket a root. The method selects the subinterval that is guaranteed to be a bracket as the new interval to be used in the next step. In this way an interval that contains a zero of f is reduced in width by 50% at each step. The process is continued until the interval is sufficiently small."
      ],
      "metadata": {
        "id": "_E4mTK-4v6tQ"
      }
    },
    {
      "cell_type": "markdown",
      "source": [
        "Let's import the libraries that we are going to use"
      ],
      "metadata": {
        "id": "nmu53IInvwa1"
      }
    },
    {
      "cell_type": "code",
      "execution_count": 2,
      "metadata": {
        "id": "bJR_UPRry7fV"
      },
      "outputs": [],
      "source": [
        "import math\n",
        "import pandas as pd\n",
        "import numpy as np\n",
        "import sympy as sym\n",
        "import matplotlib.pyplot as plt\n",
        "import scipy\n",
        "import random"
      ]
    },
    {
      "cell_type": "code",
      "source": [
        "pd.set_option(\"display.precision\", 16)"
      ],
      "metadata": {
        "id": "zCw7mIyfcMhO"
      },
      "execution_count": 3,
      "outputs": []
    },
    {
      "cell_type": "markdown",
      "metadata": {
        "id": "qtHNv_Jbi_NC"
      },
      "source": [
        "### Implementation in Python\n",
        "\n",
        "Now, let's look at the implementation of the method. We begin by defining a function f that has a change of sign in an interval of interest. For example, let's use the following function"
      ]
    },
    {
      "cell_type": "markdown",
      "metadata": {
        "id": "DSY4wgnItGmF"
      },
      "source": [
        "$$\\displaystyle\\ f(x) = 2^x + 8^x - 23$$"
      ]
    },
    {
      "cell_type": "markdown",
      "metadata": {
        "id": "lmHawHmtdZjG"
      },
      "source": [
        "Then we declare the function f"
      ]
    },
    {
      "cell_type": "code",
      "execution_count": 5,
      "metadata": {
        "id": "YKb0x_WIdeVh"
      },
      "outputs": [],
      "source": [
        "def f(x):\n",
        "  return 2**x + 8**x - 23"
      ]
    },
    {
      "cell_type": "markdown",
      "source": [
        "##Function graph\n",
        "\n",
        "Let's look at the graph of f and define the interval over which we will do the iterations of the method"
      ],
      "metadata": {
        "id": "ENdhF9K5x7kX"
      }
    },
    {
      "cell_type": "code",
      "execution_count": 6,
      "metadata": {
        "id": "ULhKQWCxdqx4"
      },
      "outputs": [],
      "source": [
        "x = np.linspace(-5, 5, 1000)\n",
        "y = f(x)"
      ]
    },
    {
      "cell_type": "markdown",
      "metadata": {
        "id": "BDiMh3zXLrtY"
      },
      "source": [
        "I define useful functions to optimize and modularize the creation of graphics"
      ]
    },
    {
      "cell_type": "code",
      "execution_count": 7,
      "metadata": {
        "id": "Rs4Husv2ggwy"
      },
      "outputs": [],
      "source": [
        "def configure_graph_grid(grid_min, grid_max):\n",
        "    \"\"\"Set up a square grid axis\"\"\"\n",
        "\n",
        "    # Make it square and set limits\n",
        "    plt.axis('square')\n",
        "    plt.axis(( grid_min, grid_max, grid_min, grid_max))"
      ]
    },
    {
      "cell_type": "code",
      "execution_count": 8,
      "metadata": {
        "id": "eomhXPl2ghuq"
      },
      "outputs": [],
      "source": [
        "def set_ticks(axes, min_val, max_val, tick_size=1):\n",
        "    \"\"\"Sets the granularity of the boxes.  Default is 1\"\"\"\n",
        "    ticks = [x for x in range(min_val, max_val, tick_size)]\n",
        "    axes.set_xticks(ticks)\n",
        "    axes.set_yticks(ticks)"
      ]
    },
    {
      "cell_type": "code",
      "execution_count": 9,
      "metadata": {
        "id": "9yJYNHFlgkML"
      },
      "outputs": [],
      "source": [
        "def plot_axes(grid_min, grid_max):\n",
        "    \"\"\"Plot x and y axes, x first then y\"\"\"\n",
        "    plt.plot([grid_min, grid_max], [0,0] , color=\".3\")\n",
        "    plt.plot([0,0],[grid_min, grid_max],  color=\".3\")\n",
        "    plt.grid()"
      ]
    },
    {
      "cell_type": "markdown",
      "metadata": {
        "id": "AkLKv9q5Lx5s"
      },
      "source": [
        "Having these useful functions, we proceed to graph the function."
      ]
    },
    {
      "cell_type": "code",
      "execution_count": 11,
      "metadata": {
        "id": "u9aEnnpgfojD",
        "colab": {
          "base_uri": "https://localhost:8080/",
          "height": 758
        },
        "outputId": "cc7c76d9-c366-4016-c905-a2c73f39b1cf"
      },
      "outputs": [
        {
          "output_type": "display_data",
          "data": {
            "text/plain": [
              "<Figure size 900x1100 with 1 Axes>"
            ],
            "image/png": "[encoded data removed]"
          },
          "metadata": {}
        }
      ],
      "source": [
        "x_array = np.linspace(-25, 5, 1000)\n",
        "y_array = np.array([f(x) for x in x_array])\n",
        "min_val, max_val = -25, 15\n",
        "fig, axes = plt.subplots(figsize=(9, 11))\n",
        "configure_graph_grid(min_val, max_val)\n",
        "plot_axes(min_val, max_val)\n",
        "set_ticks(axes, min_val, max_val)\n",
        "line = plt.plot(x_array, y_array)"
      ]
    },
    {
      "cell_type": "markdown",
      "metadata": {
        "id": "TBdqEsQFhl9P"
      },
      "source": [
        "We note that the root we are looking for is between $x = 1$ and $x = 2$, so we are going to consider the interval $I = (1, 2)$ when using the root search methods.\n",
        "\n",
        "On the other hand, we see in the graph that the function is going to be continuous in its domain, in particular, the interval I. We could already know this in advance, since it is a composition of exponential functions and a constant."
      ]
    },
    {
      "cell_type": "code",
      "execution_count": 12,
      "metadata": {
        "colab": {
          "base_uri": "https://localhost:8080/"
        },
        "id": "5AaMaRw5jzmH",
        "outputId": "255b916e-e1f8-42b5-a131-5d4a1eeaa4d8"
      },
      "outputs": [
        {
          "output_type": "stream",
          "name": "stdout",
          "text": [
            "f(1) = -13\n",
            "f(2) = 45\n"
          ]
        }
      ],
      "source": [
        "f1 = f(1)\n",
        "f2 = f(2)\n",
        "\n",
        "print('f(1) =', f1)\n",
        "print('f(2) =', f2)"
      ]
    },
    {
      "cell_type": "markdown",
      "metadata": {
        "id": "yE_-6zANkVAU"
      },
      "source": [
        "We see that there is finally a change of sign in the function within the interval, so, according to Bolzano's theorem, we end up concluding that there is a root within it.\n",
        "\n"
      ]
    },
    {
      "cell_type": "markdown",
      "source": [
        "## Implementation\n",
        "\n",
        "Now, let's start with the algorithm. First we need to have a function that calculates the midpoint between two points, and then use it to perform the bisection iterations."
      ],
      "metadata": {
        "id": "6efSvuCE1X9k"
      }
    },
    {
      "cell_type": "code",
      "execution_count": 15,
      "metadata": {
        "id": "1hyHJnKzkrhz"
      },
      "outputs": [],
      "source": [
        "def midpoint(a, b):\n",
        "  return (a + b) / 2"
      ]
    },
    {
      "cell_type": "markdown",
      "metadata": {
        "id": "PVRxZ58VWzD0"
      },
      "source": [
        "We will use a function that gives us the maximum number of iterations we need for the bisection."
      ]
    },
    {
      "cell_type": "code",
      "execution_count": 16,
      "metadata": {
        "id": "tXwGnsQPI2mC"
      },
      "outputs": [],
      "source": [
        "def maximum_quantity_iterations_bisection(a, b, tolerance):\n",
        "  return math.ceil((math.log10(b - a) - math.log10(tolerance))/math.log10(2))"
      ]
    },
    {
      "cell_type": "markdown",
      "metadata": {
        "id": "RX36N-rdWv8y"
      },
      "source": [
        "Also, we added a function that is responsible for adding a series of data to the results table, which we will display after approximating the root by bisection."
      ]
    },
    {
      "cell_type": "code",
      "execution_count": 19,
      "metadata": {
        "id": "uv70B94BRrNG"
      },
      "outputs": [],
      "source": [
        "def add_data_to_table(table, a, b, p, error):\n",
        "  table['Extreme 1'].append(a)\n",
        "  table['Extreme 2'].append(b)\n",
        "  table['Midpoint'].append(p)\n",
        "  table['Difference between successive iterations'].append(error)"
      ]
    },
    {
      "cell_type": "markdown",
      "metadata": {
        "id": "_KcRLBOdosqy"
      },
      "source": [
        "Ahora, usemos estas funciones útiles para crear nuestro algoritmo de bisección."
      ]
    },
    {
      "cell_type": "code",
      "execution_count": 20,
      "metadata": {
        "id": "HOnYUmm-o1Q0"
      },
      "outputs": [],
      "source": [
        "def bisection_method(f, extreme_1, extreme_2, error):\n",
        "  table = { 'Extreme 1': [], 'Extreme 2': [], 'Midpoint': [], 'Difference between successive iterations': []}\n",
        "\n",
        "  p = midpoint(extreme_1, extreme_2)\n",
        "  maximum_iterations = maximum_quantity_iterations_bisection(extreme_1, extreme_2, error)\n",
        "  i = 0\n",
        "\n",
        "  add_data_to_table(table, extreme_1, extreme_2, p, '----')\n",
        "\n",
        "  while((abs(extreme_2 - extreme_1) >= error) and (i <= maximum_iterations)):\n",
        "    i += 1\n",
        "    if(f(extreme_1) * f(p) < 0):\n",
        "      extreme_2 = p\n",
        "      p = midpoint(extreme_1, extreme_2)\n",
        "      add_data_to_table(table, extreme_1, extreme_2, p, abs(extreme_2 - extreme_1))\n",
        "\n",
        "    if(f(extreme_2) * f(p) < 0):\n",
        "      extreme_1 = p\n",
        "      p = midpoint(extreme_1, extreme_2)\n",
        "      add_data_to_table(table, extreme_1, extreme_2, p, abs(extreme_2 - extreme_1))\n",
        "\n",
        "  df = pd.DataFrame(data=table)\n",
        "  return df"
      ]
    },
    {
      "cell_type": "markdown",
      "metadata": {
        "id": "z1f8i4lSTvRw"
      },
      "source": [
        "Now, having all our functions declared, let's approximate the root of the function we are analyzing with bisection.\n",
        "\n",
        "Let's start approximating with a tolerance of, for example 1e-05.\n",
        "\n",
        "The bisection method with the aforementioned dimension had more than 15 iterations, so we will show the first 5 and the last 5 iterations."
      ]
    },
    {
      "cell_type": "code",
      "execution_count": 22,
      "metadata": {
        "colab": {
          "base_uri": "https://localhost:8080/",
          "height": 206
        },
        "id": "qTjA1zvWTvCL",
        "outputId": "3e29af16-4bfe-479e-cc89-adcd479c9d8d"
      },
      "outputs": [
        {
          "output_type": "execute_result",
          "data": {
            "text/plain": [
              "   Extreme 1  Extreme 2  Midpoint Difference between successive iterations\n",
              "0     1.0000        2.0   1.50000                                     ----\n",
              "1     1.0000        1.5   1.25000                                      0.5\n",
              "2     1.2500        1.5   1.37500                                     0.25\n",
              "3     1.3750        1.5   1.43750                                    0.125\n",
              "4     1.4375        1.5   1.46875                                   0.0625"
            ],
            "text/html": [
              "\n",
              "  <div id=\"df-530bc4e5-d3d8-455b-b46d-d202a59a9adb\" class=\"colab-df-container\">\n",
              "    <div>\n",
              "<style scoped>\n",
              "    .dataframe tbody tr th:only-of-type {\n",
              "        vertical-align: middle;\n",
              "    }\n",
              "\n",
              "    .dataframe tbody tr th {\n",
              "        vertical-align: top;\n",
              "    }\n",
              "\n",
              "    .dataframe thead th {\n",
              "        text-align: right;\n",
              "    }\n",
              "</style>\n",
              "<table border=\"1\" class=\"dataframe\">\n",
              "  <thead>\n",
              "    <tr style=\"text-align: right;\">\n",
              "      <th></th>\n",
              "      <th>Extreme 1</th>\n",
              "      <th>Extreme 2</th>\n",
              "      <th>Midpoint</th>\n",
              "      <th>Difference between successive iterations</th>\n",
              "    </tr>\n",
              "  </thead>\n",
              "  <tbody>\n",
              "    <tr>\n",
              "      <th>0</th>\n",
              "      <td>1.0000</td>\n",
              "      <td>2.0</td>\n",
              "      <td>1.50000</td>\n",
              "      <td>----</td>\n",
              "    </tr>\n",
              "    <tr>\n",
              "      <th>1</th>\n",
              "      <td>1.0000</td>\n",
              "      <td>1.5</td>\n",
              "      <td>1.25000</td>\n",
              "      <td>0.5</td>\n",
              "    </tr>\n",
              "    <tr>\n",
              "      <th>2</th>\n",
              "      <td>1.2500</td>\n",
              "      <td>1.5</td>\n",
              "      <td>1.37500</td>\n",
              "      <td>0.25</td>\n",
              "    </tr>\n",
              "    <tr>\n",
              "      <th>3</th>\n",
              "      <td>1.3750</td>\n",
              "      <td>1.5</td>\n",
              "      <td>1.43750</td>\n",
              "      <td>0.125</td>\n",
              "    </tr>\n",
              "    <tr>\n",
              "      <th>4</th>\n",
              "      <td>1.4375</td>\n",
              "      <td>1.5</td>\n",
              "      <td>1.46875</td>\n",
              "      <td>0.0625</td>\n",
              "    </tr>\n",
              "  </tbody>\n",
              "</table>\n",
              "</div>\n",
              "    <div class=\"colab-df-buttons\">\n",
              "\n",
              "  <div class=\"colab-df-container\">\n",
              "    <button class=\"colab-df-convert\" onclick=\"convertToInteractive('df-530bc4e5-d3d8-455b-b46d-d202a59a9adb')\"\n",
              "            title=\"Convert this dataframe to an interactive table.\"\n",
              "            style=\"display:none;\">\n",
              "\n",
              "  <svg xmlns=\"http://www.w3.org/2000/svg\" height=\"24px\" viewBox=\"0 -960 960 960\">\n",
              "    <path d=\"M120-120v-720h720v720H120Zm60-500h600v-160H180v160Zm220 220h160v-160H400v160Zm0 220h160v-160H400v160ZM180-400h160v-160H180v160Zm440 0h160v-160H620v160ZM180-180h160v-160H180v160Zm440 0h160v-160H620v160Z\"/>\n",
              "  </svg>\n",
              "    </button>\n",
              "\n",
              "  <style>\n",
              "    .colab-df-container {\n",
              "      display:flex;\n",
              "      gap: 12px;\n",
              "    }\n",
              "\n",
              "    .colab-df-convert {\n",
              "      background-color: #E8F0FE;\n",
              "      border: none;\n",
              "      border-radius: 50%;\n",
              "      cursor: pointer;\n",
              "      display: none;\n",
              "      fill: #1967D2;\n",
              "      height: 32px;\n",
              "      padding: 0 0 0 0;\n",
              "      width: 32px;\n",
              "    }\n",
              "\n",
              "    .colab-df-convert:hover {\n",
              "      background-color: #E2EBFA;\n",
              "      box-shadow: 0px 1px 2px rgba(60, 64, 67, 0.3), 0px 1px 3px 1px rgba(60, 64, 67, 0.15);\n",
              "      fill: #174EA6;\n",
              "    }\n",
              "\n",
              "    .colab-df-buttons div {\n",
              "      margin-bottom: 4px;\n",
              "    }\n",
              "\n",
              "    [theme=dark] .colab-df-convert {\n",
              "      background-color: #3B4455;\n",
              "      fill: #D2E3FC;\n",
              "    }\n",
              "\n",
              "    [theme=dark] .colab-df-convert:hover {\n",
              "      background-color: #434B5C;\n",
              "      box-shadow: 0px 1px 3px 1px rgba(0, 0, 0, 0.15);\n",
              "      filter: drop-shadow(0px 1px 2px rgba(0, 0, 0, 0.3));\n",
              "      fill: #FFFFFF;\n",
              "    }\n",
              "  </style>\n",
              "\n",
              "    <script>\n",
              "      const buttonEl =\n",
              "        document.querySelector('#df-530bc4e5-d3d8-455b-b46d-d202a59a9adb button.colab-df-convert');\n",
              "      buttonEl.style.display =\n",
              "        google.colab.kernel.accessAllowed ? 'block' : 'none';\n",
              "\n",
              "      async function convertToInteractive(key) {\n",
              "        const element = document.querySelector('#df-530bc4e5-d3d8-455b-b46d-d202a59a9adb');\n",
              "        const dataTable =\n",
              "          await google.colab.kernel.invokeFunction('convertToInteractive',\n",
              "                                                    [key], {});\n",
              "        if (!dataTable) return;\n",
              "\n",
              "        const docLinkHtml = 'Like what you see? Visit the ' +\n",
              "          '<a target=\"_blank\" href=https://colab.research.google.com/notebooks/data_table.ipynb>data table notebook</a>'\n",
              "          + ' to learn more about interactive tables.';\n",
              "        element.innerHTML = '';\n",
              "        dataTable['output_type'] = 'display_data';\n",
              "        await google.colab.output.renderOutput(dataTable, element);\n",
              "        const docLink = document.createElement('div');\n",
              "        docLink.innerHTML = docLinkHtml;\n",
              "        element.appendChild(docLink);\n",
              "      }\n",
              "    </script>\n",
              "  </div>\n",
              "\n",
              "\n",
              "<div id=\"df-2fd8062f-a83f-4716-87d2-7795e0b8e923\">\n",
              "  <button class=\"colab-df-quickchart\" onclick=\"quickchart('df-2fd8062f-a83f-4716-87d2-7795e0b8e923')\"\n",
              "            title=\"Suggest charts\"\n",
              "            style=\"display:none;\">\n",
              "\n",
              "<svg xmlns=\"http://www.w3.org/2000/svg\" height=\"24px\"viewBox=\"0 0 24 24\"\n",
              "     width=\"24px\">\n",
              "    <g>\n",
              "        <path d=\"M19 3H5c-1.1 0-2 .9-2 2v14c0 1.1.9 2 2 2h14c1.1 0 2-.9 2-2V5c0-1.1-.9-2-2-2zM9 17H7v-7h2v7zm4 0h-2V7h2v10zm4 0h-2v-4h2v4z\"/>\n",
              "    </g>\n",
              "</svg>\n",
              "  </button>\n",
              "\n",
              "<style>\n",
              "  .colab-df-quickchart {\n",
              "      --bg-color: #E8F0FE;\n",
              "      --fill-color: #1967D2;\n",
              "      --hover-bg-color: #E2EBFA;\n",
              "      --hover-fill-color: #174EA6;\n",
              "      --disabled-fill-color: #AAA;\n",
              "      --disabled-bg-color: #DDD;\n",
              "  }\n",
              "\n",
              "  [theme=dark] .colab-df-quickchart {\n",
              "      --bg-color: #3B4455;\n",
              "      --fill-color: #D2E3FC;\n",
              "      --hover-bg-color: #434B5C;\n",
              "      --hover-fill-color: #FFFFFF;\n",
              "      --disabled-bg-color: #3B4455;\n",
              "      --disabled-fill-color: #666;\n",
              "  }\n",
              "\n",
              "  .colab-df-quickchart {\n",
              "    background-color: var(--bg-color);\n",
              "    border: none;\n",
              "    border-radius: 50%;\n",
              "    cursor: pointer;\n",
              "    display: none;\n",
              "    fill: var(--fill-color);\n",
              "    height: 32px;\n",
              "    padding: 0;\n",
              "    width: 32px;\n",
              "  }\n",
              "\n",
              "  .colab-df-quickchart:hover {\n",
              "    background-color: var(--hover-bg-color);\n",
              "    box-shadow: 0 1px 2px rgba(60, 64, 67, 0.3), 0 1px 3px 1px rgba(60, 64, 67, 0.15);\n",
              "    fill: var(--button-hover-fill-color);\n",
              "  }\n",
              "\n",
              "  .colab-df-quickchart-complete:disabled,\n",
              "  .colab-df-quickchart-complete:disabled:hover {\n",
              "    background-color: var(--disabled-bg-color);\n",
              "    fill: var(--disabled-fill-color);\n",
              "    box-shadow: none;\n",
              "  }\n",
              "\n",
              "  .colab-df-spinner {\n",
              "    border: 2px solid var(--fill-color);\n",
              "    border-color: transparent;\n",
              "    border-bottom-color: var(--fill-color);\n",
              "    animation:\n",
              "      spin 1s steps(1) infinite;\n",
              "  }\n",
              "\n",
              "  @keyframes spin {\n",
              "    0% {\n",
              "      border-color: transparent;\n",
              "      border-bottom-color: var(--fill-color);\n",
              "      border-left-color: var(--fill-color);\n",
              "    }\n",
              "    20% {\n",
              "      border-color: transparent;\n",
              "      border-left-color: var(--fill-color);\n",
              "      border-top-color: var(--fill-color);\n",
              "    }\n",
              "    30% {\n",
              "      border-color: transparent;\n",
              "      border-left-color: var(--fill-color);\n",
              "      border-top-color: var(--fill-color);\n",
              "      border-right-color: var(--fill-color);\n",
              "    }\n",
              "    40% {\n",
              "      border-color: transparent;\n",
              "      border-right-color: var(--fill-color);\n",
              "      border-top-color: var(--fill-color);\n",
              "    }\n",
              "    60% {\n",
              "      border-color: transparent;\n",
              "      border-right-color: var(--fill-color);\n",
              "    }\n",
              "    80% {\n",
              "      border-color: transparent;\n",
              "      border-right-color: var(--fill-color);\n",
              "      border-bottom-color: var(--fill-color);\n",
              "    }\n",
              "    90% {\n",
              "      border-color: transparent;\n",
              "      border-bottom-color: var(--fill-color);\n",
              "    }\n",
              "  }\n",
              "</style>\n",
              "\n",
              "  <script>\n",
              "    async function quickchart(key) {\n",
              "      const quickchartButtonEl =\n",
              "        document.querySelector('#' + key + ' button');\n",
              "      quickchartButtonEl.disabled = true;  // To prevent multiple clicks.\n",
              "      quickchartButtonEl.classList.add('colab-df-spinner');\n",
              "      try {\n",
              "        const charts = await google.colab.kernel.invokeFunction(\n",
              "            'suggestCharts', [key], {});\n",
              "      } catch (error) {\n",
              "        console.error('Error during call to suggestCharts:', error);\n",
              "      }\n",
              "      quickchartButtonEl.classList.remove('colab-df-spinner');\n",
              "      quickchartButtonEl.classList.add('colab-df-quickchart-complete');\n",
              "    }\n",
              "    (() => {\n",
              "      let quickchartButtonEl =\n",
              "        document.querySelector('#df-2fd8062f-a83f-4716-87d2-7795e0b8e923 button');\n",
              "      quickchartButtonEl.style.display =\n",
              "        google.colab.kernel.accessAllowed ? 'block' : 'none';\n",
              "    })();\n",
              "  </script>\n",
              "</div>\n",
              "    </div>\n",
              "  </div>\n"
            ]
          },
          "metadata": {},
          "execution_count": 22
        }
      ],
      "source": [
        "extreme_1 = 1\n",
        "extreme_2 = 2\n",
        "\n",
        "tolerance = 1e-05\n",
        "\n",
        "df_bisection = bisection_method(f, extreme_1, extreme_2, tolerance)\n",
        "df_bisection.head()"
      ]
    },
    {
      "cell_type": "code",
      "source": [
        "df_bisection.tail()"
      ],
      "metadata": {
        "colab": {
          "base_uri": "https://localhost:8080/",
          "height": 206
        },
        "id": "IZhEhvCe-QmK",
        "outputId": "83198c70-2460-4506-db80-6349e6d8b822"
      },
      "execution_count": 23,
      "outputs": [
        {
          "output_type": "execute_result",
          "data": {
            "text/plain": [
              "             Extreme 1          Extreme 2            Midpoint  \\\n",
              "13  1.4471435546875000  1.447265625000000  1.4472045898437500   \n",
              "14  1.4471435546875000  1.447204589843750  1.4471740722656250   \n",
              "15  1.4471435546875000  1.447174072265625  1.4471588134765625   \n",
              "16  1.4471588134765625  1.447174072265625  1.4471664428710938   \n",
              "17  1.4471664428710938  1.447174072265625  1.4471702575683594   \n",
              "\n",
              "   Difference between successive iterations  \n",
              "13                          0.0001220703125  \n",
              "14                         0.00006103515625  \n",
              "15                        0.000030517578125  \n",
              "16                       0.0000152587890625  \n",
              "17                       0.0000076293945312  "
            ],
            "text/html": [
              "\n",
              "  <div id=\"df-b260f82d-a8a4-40ed-af87-00426d0f4746\" class=\"colab-df-container\">\n",
              "    <div>\n",
              "<style scoped>\n",
              "    .dataframe tbody tr th:only-of-type {\n",
              "        vertical-align: middle;\n",
              "    }\n",
              "\n",
              "    .dataframe tbody tr th {\n",
              "        vertical-align: top;\n",
              "    }\n",
              "\n",
              "    .dataframe thead th {\n",
              "        text-align: right;\n",
              "    }\n",
              "</style>\n",
              "<table border=\"1\" class=\"dataframe\">\n",
              "  <thead>\n",
              "    <tr style=\"text-align: right;\">\n",
              "      <th></th>\n",
              "      <th>Extreme 1</th>\n",
              "      <th>Extreme 2</th>\n",
              "      <th>Midpoint</th>\n",
              "      <th>Difference between successive iterations</th>\n",
              "    </tr>\n",
              "  </thead>\n",
              "  <tbody>\n",
              "    <tr>\n",
              "      <th>13</th>\n",
              "      <td>1.4471435546875000</td>\n",
              "      <td>1.447265625000000</td>\n",
              "      <td>1.4472045898437500</td>\n",
              "      <td>0.0001220703125</td>\n",
              "    </tr>\n",
              "    <tr>\n",
              "      <th>14</th>\n",
              "      <td>1.4471435546875000</td>\n",
              "      <td>1.447204589843750</td>\n",
              "      <td>1.4471740722656250</td>\n",
              "      <td>0.00006103515625</td>\n",
              "    </tr>\n",
              "    <tr>\n",
              "      <th>15</th>\n",
              "      <td>1.4471435546875000</td>\n",
              "      <td>1.447174072265625</td>\n",
              "      <td>1.4471588134765625</td>\n",
              "      <td>0.000030517578125</td>\n",
              "    </tr>\n",
              "    <tr>\n",
              "      <th>16</th>\n",
              "      <td>1.4471588134765625</td>\n",
              "      <td>1.447174072265625</td>\n",
              "      <td>1.4471664428710938</td>\n",
              "      <td>0.0000152587890625</td>\n",
              "    </tr>\n",
              "    <tr>\n",
              "      <th>17</th>\n",
              "      <td>1.4471664428710938</td>\n",
              "      <td>1.447174072265625</td>\n",
              "      <td>1.4471702575683594</td>\n",
              "      <td>0.0000076293945312</td>\n",
              "    </tr>\n",
              "  </tbody>\n",
              "</table>\n",
              "</div>\n",
              "    <div class=\"colab-df-buttons\">\n",
              "\n",
              "  <div class=\"colab-df-container\">\n",
              "    <button class=\"colab-df-convert\" onclick=\"convertToInteractive('df-b260f82d-a8a4-40ed-af87-00426d0f4746')\"\n",
              "            title=\"Convert this dataframe to an interactive table.\"\n",
              "            style=\"display:none;\">\n",
              "\n",
              "  <svg xmlns=\"http://www.w3.org/2000/svg\" height=\"24px\" viewBox=\"0 -960 960 960\">\n",
              "    <path d=\"M120-120v-720h720v720H120Zm60-500h600v-160H180v160Zm220 220h160v-160H400v160Zm0 220h160v-160H400v160ZM180-400h160v-160H180v160Zm440 0h160v-160H620v160ZM180-180h160v-160H180v160Zm440 0h160v-160H620v160Z\"/>\n",
              "  </svg>\n",
              "    </button>\n",
              "\n",
              "  <style>\n",
              "    .colab-df-container {\n",
              "      display:flex;\n",
              "      gap: 12px;\n",
              "    }\n",
              "\n",
              "    .colab-df-convert {\n",
              "      background-color: #E8F0FE;\n",
              "      border: none;\n",
              "      border-radius: 50%;\n",
              "      cursor: pointer;\n",
              "      display: none;\n",
              "      fill: #1967D2;\n",
              "      height: 32px;\n",
              "      padding: 0 0 0 0;\n",
              "      width: 32px;\n",
              "    }\n",
              "\n",
              "    .colab-df-convert:hover {\n",
              "      background-color: #E2EBFA;\n",
              "      box-shadow: 0px 1px 2px rgba(60, 64, 67, 0.3), 0px 1px 3px 1px rgba(60, 64, 67, 0.15);\n",
              "      fill: #174EA6;\n",
              "    }\n",
              "\n",
              "    .colab-df-buttons div {\n",
              "      margin-bottom: 4px;\n",
              "    }\n",
              "\n",
              "    [theme=dark] .colab-df-convert {\n",
              "      background-color: #3B4455;\n",
              "      fill: #D2E3FC;\n",
              "    }\n",
              "\n",
              "    [theme=dark] .colab-df-convert:hover {\n",
              "      background-color: #434B5C;\n",
              "      box-shadow: 0px 1px 3px 1px rgba(0, 0, 0, 0.15);\n",
              "      filter: drop-shadow(0px 1px 2px rgba(0, 0, 0, 0.3));\n",
              "      fill: #FFFFFF;\n",
              "    }\n",
              "  </style>\n",
              "\n",
              "    <script>\n",
              "      const buttonEl =\n",
              "        document.querySelector('#df-b260f82d-a8a4-40ed-af87-00426d0f4746 button.colab-df-convert');\n",
              "      buttonEl.style.display =\n",
              "        google.colab.kernel.accessAllowed ? 'block' : 'none';\n",
              "\n",
              "      async function convertToInteractive(key) {\n",
              "        const element = document.querySelector('#df-b260f82d-a8a4-40ed-af87-00426d0f4746');\n",
              "        const dataTable =\n",
              "          await google.colab.kernel.invokeFunction('convertToInteractive',\n",
              "                                                    [key], {});\n",
              "        if (!dataTable) return;\n",
              "\n",
              "        const docLinkHtml = 'Like what you see? Visit the ' +\n",
              "          '<a target=\"_blank\" href=https://colab.research.google.com/notebooks/data_table.ipynb>data table notebook</a>'\n",
              "          + ' to learn more about interactive tables.';\n",
              "        element.innerHTML = '';\n",
              "        dataTable['output_type'] = 'display_data';\n",
              "        await google.colab.output.renderOutput(dataTable, element);\n",
              "        const docLink = document.createElement('div');\n",
              "        docLink.innerHTML = docLinkHtml;\n",
              "        element.appendChild(docLink);\n",
              "      }\n",
              "    </script>\n",
              "  </div>\n",
              "\n",
              "\n",
              "<div id=\"df-a24224b1-5068-4be6-aa1f-fd05db4a03d3\">\n",
              "  <button class=\"colab-df-quickchart\" onclick=\"quickchart('df-a24224b1-5068-4be6-aa1f-fd05db4a03d3')\"\n",
              "            title=\"Suggest charts\"\n",
              "            style=\"display:none;\">\n",
              "\n",
              "<svg xmlns=\"http://www.w3.org/2000/svg\" height=\"24px\"viewBox=\"0 0 24 24\"\n",
              "     width=\"24px\">\n",
              "    <g>\n",
              "        <path d=\"M19 3H5c-1.1 0-2 .9-2 2v14c0 1.1.9 2 2 2h14c1.1 0 2-.9 2-2V5c0-1.1-.9-2-2-2zM9 17H7v-7h2v7zm4 0h-2V7h2v10zm4 0h-2v-4h2v4z\"/>\n",
              "    </g>\n",
              "</svg>\n",
              "  </button>\n",
              "\n",
              "<style>\n",
              "  .colab-df-quickchart {\n",
              "      --bg-color: #E8F0FE;\n",
              "      --fill-color: #1967D2;\n",
              "      --hover-bg-color: #E2EBFA;\n",
              "      --hover-fill-color: #174EA6;\n",
              "      --disabled-fill-color: #AAA;\n",
              "      --disabled-bg-color: #DDD;\n",
              "  }\n",
              "\n",
              "  [theme=dark] .colab-df-quickchart {\n",
              "      --bg-color: #3B4455;\n",
              "      --fill-color: #D2E3FC;\n",
              "      --hover-bg-color: #434B5C;\n",
              "      --hover-fill-color: #FFFFFF;\n",
              "      --disabled-bg-color: #3B4455;\n",
              "      --disabled-fill-color: #666;\n",
              "  }\n",
              "\n",
              "  .colab-df-quickchart {\n",
              "    background-color: var(--bg-color);\n",
              "    border: none;\n",
              "    border-radius: 50%;\n",
              "    cursor: pointer;\n",
              "    display: none;\n",
              "    fill: var(--fill-color);\n",
              "    height: 32px;\n",
              "    padding: 0;\n",
              "    width: 32px;\n",
              "  }\n",
              "\n",
              "  .colab-df-quickchart:hover {\n",
              "    background-color: var(--hover-bg-color);\n",
              "    box-shadow: 0 1px 2px rgba(60, 64, 67, 0.3), 0 1px 3px 1px rgba(60, 64, 67, 0.15);\n",
              "    fill: var(--button-hover-fill-color);\n",
              "  }\n",
              "\n",
              "  .colab-df-quickchart-complete:disabled,\n",
              "  .colab-df-quickchart-complete:disabled:hover {\n",
              "    background-color: var(--disabled-bg-color);\n",
              "    fill: var(--disabled-fill-color);\n",
              "    box-shadow: none;\n",
              "  }\n",
              "\n",
              "  .colab-df-spinner {\n",
              "    border: 2px solid var(--fill-color);\n",
              "    border-color: transparent;\n",
              "    border-bottom-color: var(--fill-color);\n",
              "    animation:\n",
              "      spin 1s steps(1) infinite;\n",
              "  }\n",
              "\n",
              "  @keyframes spin {\n",
              "    0% {\n",
              "      border-color: transparent;\n",
              "      border-bottom-color: var(--fill-color);\n",
              "      border-left-color: var(--fill-color);\n",
              "    }\n",
              "    20% {\n",
              "      border-color: transparent;\n",
              "      border-left-color: var(--fill-color);\n",
              "      border-top-color: var(--fill-color);\n",
              "    }\n",
              "    30% {\n",
              "      border-color: transparent;\n",
              "      border-left-color: var(--fill-color);\n",
              "      border-top-color: var(--fill-color);\n",
              "      border-right-color: var(--fill-color);\n",
              "    }\n",
              "    40% {\n",
              "      border-color: transparent;\n",
              "      border-right-color: var(--fill-color);\n",
              "      border-top-color: var(--fill-color);\n",
              "    }\n",
              "    60% {\n",
              "      border-color: transparent;\n",
              "      border-right-color: var(--fill-color);\n",
              "    }\n",
              "    80% {\n",
              "      border-color: transparent;\n",
              "      border-right-color: var(--fill-color);\n",
              "      border-bottom-color: var(--fill-color);\n",
              "    }\n",
              "    90% {\n",
              "      border-color: transparent;\n",
              "      border-bottom-color: var(--fill-color);\n",
              "    }\n",
              "  }\n",
              "</style>\n",
              "\n",
              "  <script>\n",
              "    async function quickchart(key) {\n",
              "      const quickchartButtonEl =\n",
              "        document.querySelector('#' + key + ' button');\n",
              "      quickchartButtonEl.disabled = true;  // To prevent multiple clicks.\n",
              "      quickchartButtonEl.classList.add('colab-df-spinner');\n",
              "      try {\n",
              "        const charts = await google.colab.kernel.invokeFunction(\n",
              "            'suggestCharts', [key], {});\n",
              "      } catch (error) {\n",
              "        console.error('Error during call to suggestCharts:', error);\n",
              "      }\n",
              "      quickchartButtonEl.classList.remove('colab-df-spinner');\n",
              "      quickchartButtonEl.classList.add('colab-df-quickchart-complete');\n",
              "    }\n",
              "    (() => {\n",
              "      let quickchartButtonEl =\n",
              "        document.querySelector('#df-a24224b1-5068-4be6-aa1f-fd05db4a03d3 button');\n",
              "      quickchartButtonEl.style.display =\n",
              "        google.colab.kernel.accessAllowed ? 'block' : 'none';\n",
              "    })();\n",
              "  </script>\n",
              "</div>\n",
              "    </div>\n",
              "  </div>\n"
            ]
          },
          "metadata": {},
          "execution_count": 23
        }
      ]
    },
    {
      "cell_type": "markdown",
      "source": [
        "As a conclusion we see that the root will have an approximate value (considering the error committed in the method) of\n",
        "$$x = 1.44717 \\pm 1x10^{-5}$$"
      ],
      "metadata": {
        "id": "6CeR9mCZ00ZU"
      }
    }
  ]
}